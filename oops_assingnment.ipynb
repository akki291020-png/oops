{
  "nbformat": 4,
  "nbformat_minor": 0,
  "metadata": {
    "colab": {
      "provenance": []
    },
    "kernelspec": {
      "name": "python3",
      "display_name": "Python 3"
    },
    "language_info": {
      "name": "python"
    }
  },
  "cells": [
    {
      "cell_type": "markdown",
      "source": [
        "# **Python OOPs Questions**"
      ],
      "metadata": {
        "id": "BCry5ANL71E_"
      }
    },
    {
      "cell_type": "markdown",
      "source": [
        "\n",
        "\n",
        "1.)  What is Object-Oriented Programming (OOP)?\n",
        "\n",
        "sol.) Object-Oriented Programming (OOP) is a programming paradigm that structures code around objects, which are instances of classes, rather than functions and logic. The core idea is to model real-world entities into a software design, bundling data and the methods that operate on that data into single units. This approach is widely used because it simplifies complex systems and promotes code reuse and maintainability.\n",
        "\n",
        "2.) What is a class in OOP?\n",
        "sol.) A class is a blueprint or a template for creating objects. It defines the properties (attributes) and behaviors (methods) that all objects of that class will have. For example, a Car class might define attributes like color and make and methods like start() and stop(). It's a logical container that doesn't hold any specific data itself; it just provides the structure.\n",
        "\n",
        "3.) What is an object in OOP?\n",
        "sol.) An object is an instance of a class. It's a real-world entity created from the class blueprint. When you create an object, you are creating a specific, tangible version of that class with its own unique set of data. Using the Car example, you could create an object my_car from the Car class, where my_car has specific values like color=\"blue\" and make=\"Toyota\".\n",
        "\n",
        "4.) What is the difference between abstraction and encapsulation?\n",
        "sol.) Abstraction focuses on hiding complex implementation details and showing only the essential features of an object. It's about what the object does, not how it does it. For example, when you use a car's accelerator pedal, you don't need to know the intricate mechanical processes; you just know that pressing it makes the car go faster.\n",
        "Encapsulation is the bundling of data (attributes) and the methods that operate on that data into a single unit (the class). It also involves restricting direct access to some of the object's components, meaning you can only access or modify the data through the defined methods. It's about data protection and preventing the object's internal state from being corrupted by external code.\n",
        "\n",
        "5.) What are dunder methods in Python?\n",
        "sol.) Dunder methods (short for \"double underscore\") are special methods in Python with names that start and end with two underscores, like __init__ or __str__. They are also called magic methods. Python automatically calls these methods in specific situations, such as when an object is initialized (__init__), when a string representation of an object is needed (__str__), or when you use an operator like + (__add__). They allow classes to interact with built-in functions and operators.\n",
        "\n",
        "6.) Explain the concept of inheritance in OOP.\n",
        "sol.) Inheritance is a mechanism where a new class, called the child or subclass, inherits attributes and methods from an existing class, called the parent or superclass. It promotes code reuse and establishes a hierarchical \"is-a\" relationship. For example, a Dog class and a Cat class could both inherit from an Animal parent class, sharing common attributes like name and age and methods like eat(), while also having their own unique attributes and methods like bark() or meow().\n",
        "\n",
        "7.) What is polymorphism in OOP?\n",
        "sol.) Polymorphism means \"many forms.\" In OOP, it allows objects of different classes to be treated as objects of a common superclass. It enables a single interface or method name to be used for different types of objects, and the behavior of that method depends on the specific object it's called on. For example, a speak() method could be called on both Dog and Cat objects, and the Dog object would bark while the Cat object would meow.\n",
        "\n",
        "8.) How is encapsulation achieved in Python?\n",
        "sol.) Python achieves encapsulation through a convention, not a strict access modifier like some other languages. You use a single leading underscore _ to indicate a \"protected\" attribute, suggesting it should not be accessed directly from outside the class. A double leading underscore __ triggers a name mangling process, making it harder to access the attribute from outside the class, but it's still not impossible. The primary way to achieve encapsulation is by using getter and setter methods to control access to the data.\n",
        "\n",
        "9.) What is a constructor in Python?\n",
        "sol.) A constructor is a special method used to initialize an object's state when it is created. In Python, the constructor is the __init__ method. When you create a new object of a class, the __init__ method is automatically called, allowing you to set the initial values for the object's attributes.\n",
        "\n",
        "10.) What are class and static methods in Python?\n",
        "sol.) 1.) Class methods are methods bound to the class, not the instance of the class. They take the class itself as the first argument, conventionally named cls. They are created using the @classmethod decorator and are often used as alternative constructors or to access and modify class-level attributes.\n",
        "2.) Static methods are methods that are part of a class's namespace but do not take a self or cls argument. They are created using the @staticmethod decorator. They behave like regular functions, but are logically grouped within a class because they are related to its functionality, even though they don't depend on the state of the object or the class.\n",
        "\n",
        "11.) What is method overloading in Python?\n",
        "sol.) Method overloading is a feature where a class can have multiple methods with the same name, but with different parameters. Python does not support method overloading in the traditional sense. If you define multiple methods with the same name in a class, the last one defined will override the previous ones. To achieve similar functionality, you can use optional arguments or a variable number of arguments (*args, **kwargs).\n",
        "\n",
        "12.) What is method overriding in OOP?\n",
        "sol.) Method overriding occurs when a subclass provides a specific implementation for a method that is already defined in its superclass. The method in the subclass has the same name, number of parameters, and return type as the method in the superclass. This allows a child class to have its own unique behavior for an inherited method.\n",
        "\n",
        "13.) What is a property decorator in Python?\n",
        "sol.) The property decorator (@property) is a built-in decorator that provides a Pythonic way to use getters and setters to manage an object's attributes. It allows you to define methods that can be accessed like attributes, making the code cleaner and more readable. It's an effective way to implement encapsulation by controlling access to an attribute without needing to change the external interface of the class.\n",
        "\n",
        "14.) Why is polymorphism important in OOP?\n",
        "sol.) Polymorphism is crucial because it allows for more flexible and extensible code. It enables you to write code that can work with a variety of object types through a single interface, reducing the need for lengthy if-elif-else or switch statements. It makes the code more generic and reusable, as you can add new classes without having to change the existing code that uses the polymorphic interface.\n",
        "\n",
        "15.) What is an abstract class in Python?\n",
        "sol.) An abstract class is a class that cannot be instantiated (you cannot create an object from it). It's designed to be a blueprint for other classes and often contains one or more abstract methods, which are methods that are declared but have no implementation. Subclasses that inherit from an abstract class are required to provide an implementation for all of its abstract methods. This is enforced using the abc (Abstract Base Classes) module in Python.\n",
        "\n",
        "16.) What are the advantages of OOP?\n",
        "sol.) The main advantages of OOP are:\n",
        "Reusability: Inheritance and composition allow you to reuse code, which saves time and effort.\n",
        "Maintainability: The modular nature of objects makes it easier to debug, modify, and maintain the code.\n",
        "Modularity: Objects are self-contained, independent units, which makes the system easier to understand and manage.\n",
        "Scalability: The structured approach of OOP helps in developing large, complex applications by breaking them down into smaller, manageable parts.\n",
        "Security (Encapsulation): Encapsulation protects data from accidental modification, leading to more secure and reliable applications.\n",
        "Flexibility (Polymorphism): Polymorphism allows for flexible designs that can easily be extended with new functionalities\n",
        "\n",
        "17.) What is the difference between a class variable and an instance variable?\n",
        "sol.) 1.)Class Variable: A class variable is a property of the class itself, defined directly inside the class but outside of any method. All objects (instances) created from the class share the same copy of the class variable. If one instance modifies the class variable, the change is reflected in all other instances. It's often used for data that is common to all objects, like a constant or a counter for the number of objects created.\n",
        "2.) Instance Variable: An instance variable is a property of a specific object, defined inside the __init__ method using the self keyword. Each object has its own unique copy of the instance variable. Changes made to an instance variable on one object do not affect the instance variables of other objects.\n",
        "\n",
        "18.) What is multiple inheritance in Python?\n",
        "sol.) Multiple inheritance is an OOP feature where a class can inherit from more than one parent class. This means the child class inherits all the attributes and methods from both (or all) of its parent classes. While it offers flexibility and code reuse, it can also lead to complex issues, such as the \"diamond problem,\" where a method is inherited from multiple paths, creating ambiguity. Python uses the Method Resolution Order (MRO) to handle these complexities.\n",
        "\n",
        "19.) Explain the purpose of __str__ and __repr__ methods in Python.\n",
        "sol.) 1.) __str__ is a dunder method that provides a user-friendly string representation of an object. It's meant for the end-user and is typically called by functions like print() and str(). The goal is to produce a readable, human-understandable output.\n",
        "2.) __repr__ is a dunder method that provides an official or unambiguous string representation of an object. It's meant for developers and is typically called by functions like repr(). The goal is to produce a string that, if passed to eval(), would create the same object. If a __str__ method is not defined, the print() function will fall back to using __repr__.\n",
        "\n",
        "20.) What is the significance of the super() function in Python?\n",
        "sol.) The super() function is used in a child class to call a method from its parent class. Its primary significance is to allow a subclass to extend or customize the behavior of a parent class method without completely overwriting it. It is most commonly used in the __init__ method of the child class to call the parent's __init__ method and ensure the parent's state is properly initialized.\n",
        "\n",
        "21.) What is the significance of the __del__ method in Python?\n",
        "sol.) The __del__ method, also known as the destructor, is a dunder method that is called when an object is about to be destroyed or garbage collected. It can be used to perform cleanup tasks, such as closing a file or a database connection. However, due to Python's automatic garbage collection, the exact timing of its execution is not guaranteed, so it is generally not a reliable way to manage resources. Context managers (with statements) are the preferred, more reliable way to handle resource management.\n",
        "\n",
        "22.) What is the difference between @staticmethod and @classmethod in Python?\n",
        "sol.) 1.) @staticmethod: A static method is a method that belongs to the class but does not have access to either the class or the instance. It doesn't take self or cls as an argument. It's like a regular function that happens to be logically grouped within the class. It's used when a method does not depend on the state of the object or the class.\n",
        "2.) @classmethod: A class method is a method that has access to the class itself but not the instance. It takes the class as its first argument, conventionally named cls. It's used when a method needs to interact with or modify the class's state, such as for creating factory methods or alternative constructors.\n",
        "\n",
        "23.) How does polymorphism work in Python with inheritance?\n",
        "sol.) Polymorphism works with inheritance by allowing a single method name to behave differently in different classes. A common example is method overriding: a parent class has a method, and a child class overrides it with its own implementation. When a variable holds an object of the child class, calling the method will execute the child's version, demonstrating polymorphism. This allows for a more flexible and abstract way of writing code where you can treat objects of different classes uniformly, as long as they share a common parent class.\n",
        "\n",
        "24.) What is method chaining in Python OOP?\n",
        "sol.) Method chaining is a programming technique where multiple method calls are strung together in a single line. This is possible when each method returns the object itself (return self). This allows for a fluent interface, making the code more readable and concise. It's commonly used in libraries for data manipulation (like Pandas) or in builder patterns for creating objects with multiple configurations.\n",
        "\n",
        "25.) What is the purpose of the __call__ method in Python?\n",
        "sol.) The __call__ method allows an object to be treated like a function. When an object with a __call__ method is \"called\" using parentheses, Python executes this method. This enables you to create \"callable objects,\" which can maintain state between calls. It's useful in various design patterns, such as for creating decorators or classes that behave like closures."
      ],
      "metadata": {
        "id": "ptdIoXUU7Wx9"
      }
    },
    {
      "cell_type": "markdown",
      "source": [
        "# **Practical Questions**"
      ],
      "metadata": {
        "id": "txaqXSQm7kWy"
      }
    },
    {
      "cell_type": "markdown",
      "source": [
        "\n",
        "1.) Create a parent class Animal with a method speak() that prints a generic message. Create a child class Dog that overrides the speak() method to print \"Bark!\".\n"
      ],
      "metadata": {
        "id": "BoKDLYz979QN"
      }
    },
    {
      "cell_type": "code",
      "source": [
        "# The parent class 'Animal'\n",
        "class Animal:\n",
        "    \"\"\"\n",
        "    This is the parent class with a generic speak() method.\n",
        "    \"\"\"\n",
        "    def speak(self):\n",
        "        # A generic message for any animal\n",
        "        print(\"I am an animal and I can make a sound.\")\n",
        "\n",
        "\n",
        "# The child class 'Dog' that inherits from 'Animal'\n",
        "class Dog(Animal):\n",
        "    \"\"\"\n",
        "    This is the child class that inherits from Animal.\n",
        "    It overrides the speak() method to provide a specific behavior.\n",
        "    \"\"\"\n",
        "    # Method overriding: providing a new implementation for a method\n",
        "    # that is already defined in the parent class.\n",
        "    def speak(self):\n",
        "        print(\"Bark!\")\n",
        "\n",
        "\n",
        "# --- Demonstration of the classes ---\n",
        "\n",
        "\n",
        "# Create an object of the parent class\n",
        "generic_animal = Animal()\n",
        "print(\"Calling speak() on the Animal object:\")\n",
        "generic_animal.speak()\n",
        "\n",
        "\n",
        "print(\"-\" * 20)  # Separator for clarity\n",
        "\n",
        "\n",
        "# Create an object of the child class\n",
        "my_dog = Dog()\n",
        "print(\"Calling speak() on the Dog object:\")\n",
        "my_dog.speak()\n",
        "\n"
      ],
      "metadata": {
        "colab": {
          "base_uri": "https://localhost:8080/"
        },
        "id": "xx551pqN8DjD",
        "outputId": "b0015751-f67f-4913-da66-f638444ab8d5"
      },
      "execution_count": null,
      "outputs": [
        {
          "output_type": "stream",
          "name": "stdout",
          "text": [
            "Calling speak() on the Animal object:\n",
            "I am an animal and I can make a sound.\n",
            "--------------------\n",
            "Calling speak() on the Dog object:\n",
            "Bark!\n"
          ]
        }
      ]
    },
    {
      "cell_type": "markdown",
      "source": [
        "2.) Write a program to create an abstract class Shape with a method area(). Derive classes Circle and Rectangle from it and implement the area() method in both.\n"
      ],
      "metadata": {
        "id": "nOcLHLRX8MTK"
      }
    },
    {
      "cell_type": "code",
      "source": [
        "import math\n",
        "from abc import ABC, abstractmethod\n",
        "\n",
        "\n",
        "# The parent class 'Shape' is an abstract base class (ABC).\n",
        "# We inherit from ABC to make it an abstract class.\n",
        "class Shape(ABC):\n",
        "    \"\"\"\n",
        "    An abstract class for a geometric shape.\n",
        "    It requires any child class to implement the area() method.\n",
        "    \"\"\"\n",
        "    @abstractmethod\n",
        "    def area(self):\n",
        "        \"\"\"\n",
        "        An abstract method that must be implemented by all subclasses.\n",
        "        It is designed to calculate the area of the shape.\n",
        "        \"\"\"\n",
        "        # This method has no implementation because it's abstract.\n",
        "        pass\n",
        "\n",
        "\n",
        "# The child class 'Circle' inherits from 'Shape'.\n",
        "class Circle(Shape):\n",
        "    \"\"\"\n",
        "    A concrete class representing a circle.\n",
        "    It provides an implementation for the abstract area() method.\n",
        "    \"\"\"\n",
        "    def __init__(self, radius):\n",
        "        \"\"\"\n",
        "        Initializes a Circle object with a given radius.\n",
        "        \"\"\"\n",
        "        self.radius = radius\n",
        "\n",
        "\n",
        "    def area(self):\n",
        "        \"\"\"\n",
        "        Calculates the area of the circle using the formula pi * r^2.\n",
        "        \"\"\"\n",
        "        return math.pi * self.radius**2\n",
        "\n",
        "\n",
        "# The child class 'Rectangle' inherits from 'Shape'.\n",
        "class Rectangle(Shape):\n",
        "    \"\"\"\n",
        "    A concrete class representing a rectangle.\n",
        "    It provides an implementation for the abstract area() method.\n",
        "    \"\"\"\n",
        "    def __init__(self, width, height):\n",
        "        \"\"\"\n",
        "        Initializes a Rectangle object with a given width and height.\n",
        "        \"\"\"\n",
        "        self.width = width\n",
        "        self.height = height\n",
        "\n",
        "\n",
        "    def area(self):\n",
        "        \"\"\"\n",
        "        Calculates the area of the rectangle using the formula width * height.\n",
        "        \"\"\"\n",
        "        return self.width * self.height\n",
        "\n",
        "\n",
        "# --- Demonstration of the classes ---\n",
        "\n",
        "\n",
        "# Create instances of our concrete classes (Circle and Rectangle).\n",
        "# We cannot create an instance of the abstract class Shape directly.\n",
        "my_circle = Circle(5)\n",
        "my_rectangle = Rectangle(4, 6)\n",
        "\n",
        "\n",
        "# Call the area() method on each object.\n",
        "print(f\"The area of the circle is: {my_circle.area():.2f}\")\n",
        "print(f\"The area of the rectangle is: {my_rectangle.area()}\")\n",
        "\n",
        "\n"
      ],
      "metadata": {
        "colab": {
          "base_uri": "https://localhost:8080/"
        },
        "id": "O9EN4eLG8MjY",
        "outputId": "23cffde5-6eb5-4b9b-e2e1-8ec36e5f8d62"
      },
      "execution_count": null,
      "outputs": [
        {
          "output_type": "stream",
          "name": "stdout",
          "text": [
            "The area of the circle is: 78.54\n",
            "The area of the rectangle is: 24\n"
          ]
        }
      ]
    },
    {
      "cell_type": "markdown",
      "source": [
        "3.) Implement a multi-level inheritance scenario where a class Vehicle has an attribute type. Derive a class Car and further derive a class ElectricCar that adds a battery attribute.\n",
        "\n"
      ],
      "metadata": {
        "id": "4SAuBQ148Mwi"
      }
    },
    {
      "cell_type": "code",
      "source": [
        "# The base class at the top of the inheritance chain\n",
        "class Vehicle:\n",
        "    \"\"\"\n",
        "    This is the base class for all vehicles. It has a 'type' attribute.\n",
        "    \"\"\"\n",
        "    def __init__(self, vehicle_type):\n",
        "        self.type = vehicle_type\n",
        "        print(f\"A new {self.type} is being created.\")\n",
        "\n",
        "\n",
        "# The intermediate class that inherits from Vehicle\n",
        "class Car(Vehicle):\n",
        "    \"\"\"\n",
        "    This class inherits from Vehicle. It represents a specific type of vehicle.\n",
        "    \"\"\"\n",
        "    def __init__(self, vehicle_type, fuel_type):\n",
        "        # Call the constructor of the parent class (Vehicle)\n",
        "        super().__init__(vehicle_type)\n",
        "        self.fuel_type = fuel_type\n",
        "        print(f\"This {self.type} runs on {self.fuel_type}.\")\n",
        "\n",
        "\n",
        "# The final class that inherits from Car, creating a multi-level chain\n",
        "class ElectricCar(Car):\n",
        "    \"\"\"\n",
        "    This class inherits from Car. It adds a new attribute specific to electric cars.\n",
        "    \"\"\"\n",
        "    def __init__(self, vehicle_type, fuel_type, battery_capacity):\n",
        "        # Call the constructor of the immediate parent class (Car)\n",
        "        super().__init__(vehicle_type, fuel_type)\n",
        "        self.battery_capacity = battery_capacity\n",
        "        print(f\"It has a battery capacity of {self.battery_capacity} kWh.\")\n",
        "\n",
        "\n",
        "# --- Demonstration of the multi-level inheritance ---\n",
        "\n",
        "\n",
        "# Create an instance of the ElectricCar class.\n",
        "# The __init__ methods of all parent classes will be called in order.\n",
        "my_electric_car = ElectricCar(\"car\", \"electricity\", 75)\n",
        "\n",
        "\n",
        "print(\"-\" * 30)\n",
        "\n",
        "\n",
        "# Access the attributes from all levels of the inheritance chain.\n",
        "print(f\"My car is a {my_electric_car.type}.\")\n",
        "print(f\"Its fuel type is {my_electric_car.fuel_type}.\")\n",
        "print(f\"Its battery capacity is {my_electric_car.battery_capacity} kWh.\")\n"
      ],
      "metadata": {
        "colab": {
          "base_uri": "https://localhost:8080/"
        },
        "id": "woYgMhkx8M__",
        "outputId": "c8048512-6378-4ac8-ee2d-ae7bf2741661"
      },
      "execution_count": null,
      "outputs": [
        {
          "output_type": "stream",
          "name": "stdout",
          "text": [
            "A new car is being created.\n",
            "This car runs on electricity.\n",
            "It has a battery capacity of 75 kWh.\n",
            "------------------------------\n",
            "My car is a car.\n",
            "Its fuel type is electricity.\n",
            "Its battery capacity is 75 kWh.\n"
          ]
        }
      ]
    },
    {
      "cell_type": "markdown",
      "source": [
        "4. Demonstrate polymorphism by creating a base class Bird with a method fly(). Create two derived classes\n",
        "Sparrow and Penguin that override the fly() method.\n"
      ],
      "metadata": {
        "id": "4PS_dTrD8NOh"
      }
    },
    {
      "cell_type": "code",
      "source": [
        "# The base class named Bird\n",
        "class Bird:\n",
        "    \"\"\"\n",
        "    A base class representing a bird.\n",
        "    This class has a method `fly()` that demonstrates a generic bird's flight.\n",
        "    \"\"\"\n",
        "    def fly(self):\n",
        "        # A generic fly method for a bird\n",
        "        print(\"A bird can fly.\")\n",
        "\n",
        "# Derived class Sparrow that inherits from Bird\n",
        "class Sparrow(Bird):\n",
        "    \"\"\"\n",
        "    A derived class representing a sparrow.\n",
        "    It overrides the `fly()` method to show a specific type of flight.\n",
        "    \"\"\"\n",
        "    # Override the fly() method to provide a specific implementation\n",
        "    def fly(self):\n",
        "        print(\"A sparrow flies by flapping its wings.\")\n",
        "\n",
        "# Derived class Penguin that inherits from Bird\n",
        "class Penguin(Bird):\n",
        "    \"\"\"\n",
        "    A derived class representing a penguin.\n",
        "    It overrides the `fly()` method to show that penguins cannot fly.\n",
        "    \"\"\"\n",
        "    # Override the fly() method to indicate a penguin cannot fly\n",
        "    def fly(self):\n",
        "        print(\"A penguin cannot fly, but it can swim.\")\n",
        "\n",
        "# --- Demonstrating Polymorphism ---\n",
        "\n",
        "# Create instances of the classes\n",
        "my_bird = Bird()\n",
        "my_sparrow = Sparrow()\n",
        "my_penguin = Penguin()\n",
        "\n",
        "# Call the fly() method on each object.\n",
        "# The same method call `fly()` behaves differently based on the object's type,\n",
        "# which is the essence of polymorphism.\n",
        "print(\"--- Demonstrating polymorphism with different bird types ---\")\n",
        "my_bird.fly()\n",
        "my_sparrow.fly()\n",
        "my_penguin.fly()\n",
        "\n",
        "# You can also use a loop to demonstrate polymorphism more clearly\n",
        "print(\"\\n--- Demonstrating polymorphism in a loop ---\")\n",
        "birds = [my_bird, my_sparrow, my_penguin]\n",
        "\n",
        "for bird in birds:\n",
        "    bird.fly()\n"
      ],
      "metadata": {
        "id": "RttG0DpW8NeL",
        "colab": {
          "base_uri": "https://localhost:8080/"
        },
        "outputId": "3e389803-88da-4460-e6cc-c6b377f39bc9"
      },
      "execution_count": 4,
      "outputs": [
        {
          "output_type": "stream",
          "name": "stdout",
          "text": [
            "--- Demonstrating polymorphism with different bird types ---\n",
            "A bird can fly.\n",
            "A sparrow flies by flapping its wings.\n",
            "A penguin cannot fly, but it can swim.\n",
            "\n",
            "--- Demonstrating polymorphism in a loop ---\n",
            "A bird can fly.\n",
            "A sparrow flies by flapping its wings.\n",
            "A penguin cannot fly, but it can swim.\n"
          ]
        }
      ]
    },
    {
      "cell_type": "markdown",
      "source": [
        "5. Write a program to demonstrate encapsulation by creating a class BankAccount with private attributes\n",
        "balance and methods to deposit, withdraw, and check balance."
      ],
      "metadata": {
        "id": "d7JuObtB8NsO"
      }
    },
    {
      "cell_type": "code",
      "source": [
        "class BankAccount:\n",
        "    \"\"\"\n",
        "    A class to demonstrate encapsulation by modeling a bank account.\n",
        "\n",
        "    The '__balance' attribute is private, meaning it cannot be accessed directly\n",
        "    from outside the class. This protects the data from unauthorized changes.\n",
        "    \"\"\"\n",
        "\n",
        "    def __init__(self, initial_balance=0):\n",
        "        \"\"\"\n",
        "        Initializes a new BankAccount object with a starting balance.\n",
        "\n",
        "        Args:\n",
        "            initial_balance (int or float): The starting amount of money.\n",
        "        \"\"\"\n",
        "        # The balance attribute is \"private\" due to the double underscore prefix.\n",
        "        # This prevents direct modification from outside the class.\n",
        "        self.__balance = initial_balance\n",
        "\n",
        "    def deposit(self, amount):\n",
        "        \"\"\"\n",
        "        Adds a positive amount to the account balance.\n",
        "\n",
        "        Args:\n",
        "            amount (int or float): The amount to deposit.\n",
        "        \"\"\"\n",
        "        if amount > 0:\n",
        "            self.__balance += amount\n",
        "            print(f\"Deposited: ${amount}. New balance: ${self.__balance}\")\n",
        "        else:\n",
        "            print(\"Deposit amount must be positive.\")\n",
        "\n",
        "    def withdraw(self, amount):\n",
        "        \"\"\"\n",
        "        Withdraws a positive amount from the account balance, if sufficient funds exist.\n",
        "\n",
        "        Args:\n",
        "            amount (int or float): The amount to withdraw.\n",
        "        \"\"\"\n",
        "        if amount > 0 and amount <= self.__balance:\n",
        "            self.__balance -= amount\n",
        "            print(f\"Withdrew: ${amount}. New balance: ${self.__balance}\")\n",
        "        elif amount <= 0:\n",
        "            print(\"Withdrawal amount must be positive.\")\n",
        "        else:\n",
        "            print(\"Insufficient funds to withdraw that amount.\")\n",
        "\n",
        "    def get_balance(self):\n",
        "        \"\"\"\n",
        "        A public method to safely retrieve the current balance.\n",
        "        This is the only way to check the balance from outside the class.\n",
        "\n",
        "        Returns:\n",
        "            int or float: The current balance.\n",
        "        \"\"\"\n",
        "        return self.__balance\n",
        "\n",
        "# --- Demonstrating Encapsulation ---\n",
        "\n",
        "# Create an instance of the BankAccount class\n",
        "account = BankAccount(initial_balance=100)\n",
        "\n",
        "print(\"--- Using public methods to interact with the account ---\")\n",
        "\n",
        "# Deposit some money using the public method\n",
        "account.deposit(50)\n",
        "\n",
        "# Withdraw some money using the public method\n",
        "account.withdraw(20)\n",
        "\n",
        "# Check the balance using the public getter method\n",
        "print(f\"Current balance is: ${account.get_balance()}\")\n",
        "\n",
        "# Try to withdraw more than the balance\n",
        "account.withdraw(200)\n",
        "\n",
        "print(\"\\n--- Attempting to access the private attribute directly ---\")\n",
        "\n",
        "# Note: In Python, a private attribute is not truly hidden, but the name is \"mangled\"\n",
        "# to discourage direct access. This will result in an AttributeError.\n",
        "try:\n",
        "    print(f\"Attempting to access private balance: {account.__balance}\")\n",
        "except AttributeError as e:\n",
        "    print(f\"Error: {e}. The '__balance' attribute is protected!\")\n",
        "\n"
      ],
      "metadata": {
        "id": "QcFv3IOF8N7U",
        "colab": {
          "base_uri": "https://localhost:8080/"
        },
        "outputId": "e07a87d7-6ab1-4a67-9f6c-39cafdbb27a8"
      },
      "execution_count": 5,
      "outputs": [
        {
          "output_type": "stream",
          "name": "stdout",
          "text": [
            "--- Using public methods to interact with the account ---\n",
            "Deposited: $50. New balance: $150\n",
            "Withdrew: $20. New balance: $130\n",
            "Current balance is: $130\n",
            "Insufficient funds to withdraw that amount.\n",
            "\n",
            "--- Attempting to access the private attribute directly ---\n",
            "Error: 'BankAccount' object has no attribute '__balance'. The '__balance' attribute is protected!\n"
          ]
        }
      ]
    },
    {
      "cell_type": "markdown",
      "source": [
        "6. Demonstrate runtime polymorphism using a method play() in a base class Instrument. Derive classes Guitar\n",
        "and Piano that implement their own version of play()."
      ],
      "metadata": {
        "id": "A8t1tOkg8OOF"
      }
    },
    {
      "cell_type": "code",
      "source": [
        "# The base class named Instrument\n",
        "class Instrument:\n",
        "    \"\"\"\n",
        "    A base class representing a musical instrument.\n",
        "    It has a `play()` method that provides a general description of playing.\n",
        "    \"\"\"\n",
        "    def play(self):\n",
        "        # A generic method for playing an instrument\n",
        "        print(\"This instrument is being played.\")\n",
        "\n",
        "# Derived class Guitar that inherits from Instrument\n",
        "class Guitar(Instrument):\n",
        "    \"\"\"\n",
        "    A derived class for a guitar.\n",
        "    It overrides the `play()` method with a specific implementation for a guitar.\n",
        "    \"\"\"\n",
        "    # Override the play() method\n",
        "    def play(self):\n",
        "        print(\"The guitarist strums the strings and plays a chord.\")\n",
        "\n",
        "# Derived class Piano that inherits from Instrument\n",
        "class Piano(Instrument):\n",
        "    \"\"\"\n",
        "    A derived class for a piano.\n",
        "    It overrides the `play()` method with a specific implementation for a piano.\n",
        "    \"\"\"\n",
        "    # Override the play() method\n",
        "    def play(self):\n",
        "        print(\"The pianist presses the keys and creates a melody.\")\n",
        "\n",
        "# --- Demonstrating Runtime Polymorphism ---\n",
        "\n",
        "# Create instances of the classes\n",
        "my_instrument = Instrument()\n",
        "my_guitar = Guitar()\n",
        "my_piano = Piano()\n",
        "\n",
        "# Create a list of different instrument objects.\n",
        "# This is a common way to see polymorphism in action.\n",
        "instruments = [my_instrument, my_guitar, my_piano]\n",
        "\n",
        "print(\"--- Demonstrating polymorphism in a loop ---\")\n",
        "\n",
        "# Loop through the list and call the `play()` method on each object.\n",
        "# The same method call `instrument.play()` produces different results because\n",
        "# Python determines which version of the method to call at runtime.\n",
        "for instrument in instruments:\n",
        "    instrument.play()\n"
      ],
      "metadata": {
        "id": "4JuwTy108OcY",
        "colab": {
          "base_uri": "https://localhost:8080/"
        },
        "outputId": "caec925a-55a4-4c66-fc16-c26b427a1f20"
      },
      "execution_count": 6,
      "outputs": [
        {
          "output_type": "stream",
          "name": "stdout",
          "text": [
            "--- Demonstrating polymorphism in a loop ---\n",
            "This instrument is being played.\n",
            "The guitarist strums the strings and plays a chord.\n",
            "The pianist presses the keys and creates a melody.\n"
          ]
        }
      ]
    },
    {
      "cell_type": "markdown",
      "source": [
        "7. Create a class MathOperations with a class method add_numbers() to add two numbers and a static\n",
        "method subtract_numbers() to subtract two numbers."
      ],
      "metadata": {
        "id": "cumSTROn8OqU"
      }
    },
    {
      "cell_type": "code",
      "source": [
        "class MathOperations:\n",
        "    \"\"\"\n",
        "    A class to demonstrate class and static methods.\n",
        "    \"\"\"\n",
        "\n",
        "    # A class method is bound to the class and not the instance of the class.\n",
        "    # It takes the class itself (conventionally 'cls') as the first argument.\n",
        "    @classmethod\n",
        "    def add_numbers(cls, num1, num2):\n",
        "        \"\"\"\n",
        "        Adds two numbers using a class method.\n",
        "        Class methods are often used for factory methods that create objects,\n",
        "        but they can also be used for operations related to the class as a whole.\n",
        "        \"\"\"\n",
        "        result = num1 + num2\n",
        "        print(f\"Adding with a class method: {num1} + {num2} = {result}\")\n",
        "        return result\n",
        "\n",
        "    # A static method is not bound to the class or an instance.\n",
        "    # It does not take 'cls' or 'self' as an argument.\n",
        "    # Static methods are like regular functions but are placed inside a class\n",
        "    # for organizational purposes.\n",
        "    @staticmethod\n",
        "    def subtract_numbers(num1, num2):\n",
        "        \"\"\"\n",
        "        Subtracts the second number from the first using a static method.\n",
        "        Static methods are useful for utility functions that don't need access\n",
        "        to class or instance data.\n",
        "        \"\"\"\n",
        "        result = num1 - num2\n",
        "        print(f\"Subtracting with a static method: {num1} - {num2} = {result}\")\n",
        "        return result\n",
        "\n",
        "# --- Demonstrating the use of the methods ---\n",
        "\n",
        "# Call the class method directly on the class\n",
        "print(\"--- Calling class and static methods ---\")\n",
        "MathOperations.add_numbers(10, 5)\n",
        "\n",
        "# You can also call it on an instance, but it's still bound to the class\n",
        "math_obj = MathOperations()\n",
        "math_obj.add_numbers(20, 10)\n",
        "\n",
        "# Call the static method directly on the class\n",
        "MathOperations.subtract_numbers(50, 20)\n",
        "\n",
        "# You can also call it on an instance\n",
        "math_obj.subtract_numbers(100, 75)\n"
      ],
      "metadata": {
        "id": "Llh_jK9J8O5s",
        "colab": {
          "base_uri": "https://localhost:8080/"
        },
        "outputId": "07b9836c-f43a-41ab-9401-35fb1d2c89af"
      },
      "execution_count": 8,
      "outputs": [
        {
          "output_type": "stream",
          "name": "stdout",
          "text": [
            "--- Calling class and static methods ---\n",
            "Adding with a class method: 10 + 5 = 15\n",
            "Adding with a class method: 20 + 10 = 30\n",
            "Subtracting with a static method: 50 - 20 = 30\n",
            "Subtracting with a static method: 100 - 75 = 25\n"
          ]
        },
        {
          "output_type": "execute_result",
          "data": {
            "text/plain": [
              "25"
            ]
          },
          "metadata": {},
          "execution_count": 8
        }
      ]
    },
    {
      "cell_type": "markdown",
      "source": [
        "8. Implement a class Person with a class method to count the total number of persons created."
      ],
      "metadata": {
        "id": "168_tNzm8PL8"
      }
    },
    {
      "cell_type": "code",
      "source": [
        "class Person:\n",
        "    \"\"\"\n",
        "    A class representing a person.\n",
        "    It uses a class variable to keep a running count of all\n",
        "    Person objects that have been created.\n",
        "    \"\"\"\n",
        "    # This is a class variable, shared by all instances of the class.\n",
        "    # It's a single variable that belongs to the class itself, not to any\n",
        "    # specific person.\n",
        "    total_persons = 0\n",
        "\n",
        "    def __init__(self, name):\n",
        "        \"\"\"\n",
        "        Initializes a new Person object.\n",
        "        \"\"\"\n",
        "        self.name = name\n",
        "        # We increment the class variable here every time a new Person object is created.\n",
        "        # This action happens automatically whenever an object is instantiated.\n",
        "        Person.total_persons += 1\n",
        "        print(f\"A new person named {self.name} has been created.\")\n",
        "\n",
        "    @classmethod\n",
        "    def get_person_count(cls):\n",
        "        \"\"\"\n",
        "        A class method to return the total number of persons created.\n",
        "\n",
        "        The 'cls' parameter refers to the class itself (Person in this case),\n",
        "        which allows us to access the shared 'total_persons' variable.\n",
        "        Class methods are perfect for tasks that relate to the class as a whole,\n",
        "        not just a single instance.\n",
        "        \"\"\"\n",
        "        print(f\"\\nTotal number of persons created so far: {cls.total_persons}\")\n",
        "        return cls.total_persons\n",
        "\n",
        "# --- Demonstrating the class and method ---\n",
        "\n",
        "# Create a few instances of the Person class\n",
        "print(\"--- Creating instances ---\")\n",
        "person1 = Person(\"Alice\")\n",
        "person2 = Person(\"Bob\")\n",
        "person3 = Person(\"Charlie\")\n",
        "\n",
        "# Now, call the class method to see the count.\n",
        "# We call the method directly on the class, not an instance.\n",
        "print(\"\\n--- Checking the count ---\")\n",
        "Person.get_person_count()\n",
        "\n",
        "# Let's create another person to see the count update.\n",
        "print(\"\\n--- Creating another instance ---\")\n",
        "person4 = Person(\"Diana\")\n",
        "\n",
        "# Call the method again to see the new total.\n",
        "print(\"\\n--- Checking the count again ---\")\n",
        "Person.get_person_count()\n"
      ],
      "metadata": {
        "id": "NMopwPEs8PZ_",
        "colab": {
          "base_uri": "https://localhost:8080/"
        },
        "outputId": "29162882-a691-438b-d27d-301afecf9d47"
      },
      "execution_count": 9,
      "outputs": [
        {
          "output_type": "stream",
          "name": "stdout",
          "text": [
            "--- Creating instances ---\n",
            "A new person named Alice has been created.\n",
            "A new person named Bob has been created.\n",
            "A new person named Charlie has been created.\n",
            "\n",
            "--- Checking the count ---\n",
            "\n",
            "Total number of persons created so far: 3\n",
            "\n",
            "--- Creating another instance ---\n",
            "A new person named Diana has been created.\n",
            "\n",
            "--- Checking the count again ---\n",
            "\n",
            "Total number of persons created so far: 4\n"
          ]
        },
        {
          "output_type": "execute_result",
          "data": {
            "text/plain": [
              "4"
            ]
          },
          "metadata": {},
          "execution_count": 9
        }
      ]
    },
    {
      "cell_type": "markdown",
      "source": [
        "9. Write a class Fraction with attributes numerator and denominator. Override the str method to display the\n",
        "fraction as \"numerator/denominator\"."
      ],
      "metadata": {
        "id": "LQ0Dup97AJkW"
      }
    },
    {
      "cell_type": "code",
      "source": [
        "class Fraction:\n",
        "    \"\"\"\n",
        "    A class to represent a fraction with a numerator and a denominator.\n",
        "    \"\"\"\n",
        "    def __init__(self, numerator, denominator):\n",
        "        \"\"\"\n",
        "        Initializes the Fraction object with the given numerator and denominator.\n",
        "        \"\"\"\n",
        "        self.numerator = numerator\n",
        "        self.denominator = denominator\n",
        "\n",
        "    def __str__(self):\n",
        "        \"\"\"\n",
        "        Overrides the built-in __str__ method to provide a custom string\n",
        "        representation for the Fraction object. When you print a Fraction\n",
        "        object, this method will be called automatically.\n",
        "        \"\"\"\n",
        "        # Return the fraction in the format \"numerator/denominator\"\n",
        "        return f\"{self.numerator}/{self.denominator}\"\n",
        "\n",
        "# --- Demonstrating the class ---\n",
        "\n",
        "# Create a new Fraction object\n",
        "my_fraction = Fraction(3, 4)\n",
        "print(f\"Printing the fraction object directly:\")\n",
        "print(my_fraction)\n",
        "\n",
        "# Create another Fraction object\n",
        "another_fraction = Fraction(5, 8)\n",
        "print(f\"\\nPrinting another fraction:\")\n",
        "print(another_fraction)\n",
        "\n",
        "# You can also use the string representation in other strings\n",
        "print(f\"\\nMy favorite fraction is {my_fraction}.\")\n"
      ],
      "metadata": {
        "colab": {
          "base_uri": "https://localhost:8080/"
        },
        "id": "jiq5U2vwAJ09",
        "outputId": "5dfbedaa-f372-4c78-bee1-d2f702d48c12"
      },
      "execution_count": 10,
      "outputs": [
        {
          "output_type": "stream",
          "name": "stdout",
          "text": [
            "Printing the fraction object directly:\n",
            "3/4\n",
            "\n",
            "Printing another fraction:\n",
            "5/8\n",
            "\n",
            "My favorite fraction is 3/4.\n"
          ]
        }
      ]
    },
    {
      "cell_type": "markdown",
      "source": [
        "10. Demonstrate operator overloading by creating a class Vector and overriding the add method to add two\n",
        "vectors"
      ],
      "metadata": {
        "id": "UEQOoJQrAKGQ"
      }
    },
    {
      "cell_type": "code",
      "source": [
        "class Vector:\n",
        "    \"\"\"\n",
        "    A class to represent a 2D vector.\n",
        "    This class demonstrates operator overloading by customizing the behavior\n",
        "    of the addition operator (+).\n",
        "    \"\"\"\n",
        "\n",
        "    def __init__(self, x, y):\n",
        "        \"\"\"\n",
        "        Initializes the Vector with x and y components.\n",
        "        \"\"\"\n",
        "        self.x = x\n",
        "        self.y = y\n",
        "\n",
        "    def __add__(self, other):\n",
        "        \"\"\"\n",
        "        Overrides the addition operator (+) for Vector objects.\n",
        "        This method is called when you use the '+' sign between two vectors.\n",
        "        It adds the corresponding x and y components and returns a new Vector object.\n",
        "        \"\"\"\n",
        "        # Ensure the 'other' object is also a Vector for safe addition.\n",
        "        if isinstance(other, Vector):\n",
        "            # Create a new Vector instance with the summed components\n",
        "            new_x = self.x + other.x\n",
        "            new_y = self.y + other.y\n",
        "            return Vector(new_x, new_y)\n",
        "        else:\n",
        "            # Raise a TypeError if the other object is not a Vector\n",
        "            raise TypeError(\"Unsupported operand type(s) for +: 'Vector' and '{}'\".format(type(other).__name__))\n",
        "\n",
        "    def __str__(self):\n",
        "        \"\"\"\n",
        "        A special method that returns a user-friendly string representation\n",
        "        of the Vector object. This makes it easy to print.\n",
        "        \"\"\"\n",
        "        return f\"Vector({self.x}, {self.y})\"\n",
        "\n",
        "# --- Demonstrating Operator Overloading ---\n",
        "\n",
        "# Create two Vector objects\n",
        "vector1 = Vector(3, 4)\n",
        "vector2 = Vector(1, 2)\n",
        "\n",
        "print(f\"Vector 1: {vector1}\")\n",
        "print(f\"Vector 2: {vector2}\")\n",
        "\n",
        "# Now, add the two vectors using the '+' operator.\n",
        "# The `__add__` method we defined above will be called automatically.\n",
        "print(\"\\nAdding the two vectors together:\")\n",
        "result_vector = vector1 + vector2\n",
        "\n",
        "# The `__str__` method is called when we print the result_vector\n",
        "print(f\"Result Vector: {result_vector}\")\n",
        "\n",
        "print(f\"\\nThis result is the same as creating a new Vector manually:\")\n",
        "manual_vector = Vector(vector1.x + vector2.x, vector1.y + vector2.y)\n",
        "print(f\"Manual Result: {manual_vector}\")\n"
      ],
      "metadata": {
        "colab": {
          "base_uri": "https://localhost:8080/"
        },
        "id": "MaWExU2UAKax",
        "outputId": "66a79bf8-049e-4d22-9496-6357a22066f0"
      },
      "execution_count": 11,
      "outputs": [
        {
          "output_type": "stream",
          "name": "stdout",
          "text": [
            "Vector 1: Vector(3, 4)\n",
            "Vector 2: Vector(1, 2)\n",
            "\n",
            "Adding the two vectors together:\n",
            "Result Vector: Vector(4, 6)\n",
            "\n",
            "This result is the same as creating a new Vector manually:\n",
            "Manual Result: Vector(4, 6)\n"
          ]
        }
      ]
    },
    {
      "cell_type": "markdown",
      "source": [
        "11. Create a class Person with attributes name and age. Add a method greet() that prints \"Hello, my name is\n",
        "{name} and I am {age} years old.\""
      ],
      "metadata": {
        "id": "N4XcUDYdAK4f"
      }
    },
    {
      "cell_type": "code",
      "source": [
        "class Person:\n",
        "    \"\"\"\n",
        "    A class to represent a person with a name and age.\n",
        "    \"\"\"\n",
        "\n",
        "    def __init__(self, name, age):\n",
        "        \"\"\"\n",
        "        Initializes a new Person object with a name and age.\n",
        "\n",
        "        Args:\n",
        "            name (str): The name of the person.\n",
        "            age (int): The age of the person.\n",
        "        \"\"\"\n",
        "        self.name = name\n",
        "        self.age = age\n",
        "\n",
        "    def greet(self):\n",
        "        \"\"\"\n",
        "        Prints a greeting that includes the person's name and age.\n",
        "        \"\"\"\n",
        "        print(f\"Hello, my name is {self.name} and I am {self.age} years old.\")\n",
        "\n",
        "# --- Demonstrating the class ---\n",
        "\n",
        "# Create an instance of the Person class\n",
        "person1 = Person(\"Alice\", 16)\n",
        "\n",
        "# Call the greet() method on the instance to see the output\n",
        "person1.greet()\n",
        "\n",
        "# You can create another person with different attributes\n",
        "person2 = Person(\"Bob\", 15)\n",
        "person2.greet()\n"
      ],
      "metadata": {
        "colab": {
          "base_uri": "https://localhost:8080/"
        },
        "id": "vj4IkDc5ALJz",
        "outputId": "8f6699f4-6a4a-4cb6-9d65-53d9fb24158d"
      },
      "execution_count": 12,
      "outputs": [
        {
          "output_type": "stream",
          "name": "stdout",
          "text": [
            "Hello, my name is Alice and I am 16 years old.\n",
            "Hello, my name is Bob and I am 15 years old.\n"
          ]
        }
      ]
    },
    {
      "cell_type": "markdown",
      "source": [
        "12. Implement a class Student with attributes name and grades. Create a method average_grade() to compute\n",
        "the average of the grades."
      ],
      "metadata": {
        "id": "JuuaqsFvALaw"
      }
    },
    {
      "cell_type": "code",
      "source": [
        "class Student:\n",
        "    \"\"\"\n",
        "    A class to represent a student with their name and grades.\n",
        "    \"\"\"\n",
        "    def __init__(self, name, grades):\n",
        "        \"\"\"\n",
        "        Initializes the Student object.\n",
        "\n",
        "        Args:\n",
        "            name (str): The name of the student.\n",
        "            grades (list): A list of integer or float grades.\n",
        "        \"\"\"\n",
        "        self.name = name\n",
        "        self.grades = grades\n",
        "\n",
        "    def average_grade(self):\n",
        "        \"\"\"\n",
        "        Computes and prints the average of the student's grades.\n",
        "        \"\"\"\n",
        "        # Check if the list of grades is not empty to avoid a division by zero error.\n",
        "        if len(self.grades) > 0:\n",
        "            total_sum = sum(self.grades)\n",
        "            average = total_sum / len(self.grades)\n",
        "            print(f\"The average grade for {self.name} is: {average:.2f}\")\n",
        "            return average\n",
        "        else:\n",
        "            print(f\"{self.name} has no grades to average.\")\n",
        "            return 0.0\n",
        "\n",
        "# --- Demonstrating the class ---\n",
        "\n",
        "# Create an instance of the Student class with some grades\n",
        "student1 = Student(\"Charlie\", [85, 92, 78, 95])\n",
        "print(f\"Created student: {student1.name}\")\n",
        "\n",
        "# Call the average_grade() method to see the result\n",
        "student1.average_grade()\n",
        "\n",
        "# Create another student with a different set of grades\n",
        "student2 = Student(\"Maria\", [75, 80, 88, 79, 91])\n",
        "print(f\"\\nCreated student: {student2.name}\")\n",
        "\n",
        "# Call the method for the second student\n",
        "student2.average_grade()\n",
        "\n",
        "# Create a student with no grades to test the empty list case\n",
        "student3 = Student(\"David\", [])\n",
        "print(f\"\\nCreated student: {student3.name}\")\n",
        "student3.average_grade()\n"
      ],
      "metadata": {
        "colab": {
          "base_uri": "https://localhost:8080/"
        },
        "id": "FQv3e3m0ALqS",
        "outputId": "6431a160-b5ab-435c-b8ac-b0e04fe14999"
      },
      "execution_count": 13,
      "outputs": [
        {
          "output_type": "stream",
          "name": "stdout",
          "text": [
            "Created student: Charlie\n",
            "The average grade for Charlie is: 87.50\n",
            "\n",
            "Created student: Maria\n",
            "The average grade for Maria is: 82.60\n",
            "\n",
            "Created student: David\n",
            "David has no grades to average.\n"
          ]
        },
        {
          "output_type": "execute_result",
          "data": {
            "text/plain": [
              "0.0"
            ]
          },
          "metadata": {},
          "execution_count": 13
        }
      ]
    },
    {
      "cell_type": "markdown",
      "source": [
        "13. Create a class Rectangle with methods set_dimensions() to set the dimensions and area() to calculate the\n",
        "area."
      ],
      "metadata": {
        "id": "cbZXB3wfAL8U"
      }
    },
    {
      "cell_type": "code",
      "source": [
        "class Rectangle:\n",
        "    \"\"\"\n",
        "    A class to represent a rectangle.\n",
        "    It has methods to set its dimensions and calculate its area.\n",
        "    \"\"\"\n",
        "\n",
        "    def __init__(self, length=0, width=0):\n",
        "        \"\"\"\n",
        "        Initializes the Rectangle object with a given length and width.\n",
        "\n",
        "        Args:\n",
        "            length (float or int): The length of the rectangle. Defaults to 0.\n",
        "            width (float or int): The width of the rectangle. Defaults to 0.\n",
        "        \"\"\"\n",
        "        self.length = length\n",
        "        self.width = width\n",
        "\n",
        "    def set_dimensions(self, length, width):\n",
        "        \"\"\"\n",
        "        Sets the length and width of the rectangle.\n",
        "\n",
        "        Args:\n",
        "            length (float or int): The new length of the rectangle.\n",
        "            width (float or int): The new width of the rectangle.\n",
        "        \"\"\"\n",
        "        if length >= 0 and width >= 0:\n",
        "            self.length = length\n",
        "            self.width = width\n",
        "            print(f\"Dimensions set to: Length = {self.length}, Width = {self.width}\")\n",
        "        else:\n",
        "            print(\"Dimensions cannot be negative.\")\n",
        "\n",
        "    def area(self):\n",
        "        \"\"\"\n",
        "        Calculates and returns the area of the rectangle.\n",
        "        \"\"\"\n",
        "        area_value = self.length * self.width\n",
        "        print(f\"The area of the rectangle is: {area_value}\")\n",
        "        return area_value\n",
        "\n",
        "# --- Demonstrating the class ---\n",
        "\n",
        "# Create an instance of the Rectangle class\n",
        "rectangle1 = Rectangle()\n",
        "print(\"Created a rectangle with default dimensions.\")\n",
        "rectangle1.area()\n",
        "\n",
        "# Set the dimensions using the set_dimensions() method\n",
        "print(\"\\nSetting dimensions to 5 and 10.\")\n",
        "rectangle1.set_dimensions(5, 10)\n",
        "\n",
        "# Calculate and print the area\n",
        "rectangle1.area()\n",
        "\n",
        "# Create another rectangle with initial dimensions\n",
        "print(\"\\nCreating a second rectangle with dimensions 7 and 3.\")\n",
        "rectangle2 = Rectangle(7, 3)\n",
        "rectangle2.area()\n",
        "\n",
        "# Try setting invalid dimensions\n",
        "print(\"\\nAttempting to set negative dimensions.\")\n",
        "rectangle2.set_dimensions(-2, 4)\n"
      ],
      "metadata": {
        "colab": {
          "base_uri": "https://localhost:8080/"
        },
        "id": "5YB206UJAML8",
        "outputId": "30eb617e-42ec-4f2c-cb1e-4b6a7326c236"
      },
      "execution_count": 14,
      "outputs": [
        {
          "output_type": "stream",
          "name": "stdout",
          "text": [
            "Created a rectangle with default dimensions.\n",
            "The area of the rectangle is: 0\n",
            "\n",
            "Setting dimensions to 5 and 10.\n",
            "Dimensions set to: Length = 5, Width = 10\n",
            "The area of the rectangle is: 50\n",
            "\n",
            "Creating a second rectangle with dimensions 7 and 3.\n",
            "The area of the rectangle is: 21\n",
            "\n",
            "Attempting to set negative dimensions.\n",
            "Dimensions cannot be negative.\n"
          ]
        }
      ]
    },
    {
      "cell_type": "markdown",
      "source": [
        "14. Create a class Employee with a method calculate_salary() that computes the salary based on hours worked\n",
        "and hourly rate. Create a derived class Manager that adds a bonus to the salary"
      ],
      "metadata": {
        "id": "pnk0T-xpAMb0"
      }
    },
    {
      "cell_type": "code",
      "source": [
        "class Employee:\n",
        "    \"\"\"\n",
        "    A base class to represent an employee.\n",
        "    It calculates the base salary based on hours worked and hourly rate.\n",
        "    \"\"\"\n",
        "\n",
        "    def __init__(self, name, hours_worked, hourly_rate):\n",
        "        \"\"\"\n",
        "        Initializes a new Employee object.\n",
        "\n",
        "        Args:\n",
        "            name (str): The name of the employee.\n",
        "            hours_worked (float): The number of hours worked.\n",
        "            hourly_rate (float): The hourly rate of pay.\n",
        "        \"\"\"\n",
        "        self.name = name\n",
        "        self.hours_worked = hours_worked\n",
        "        self.hourly_rate = hourly_rate\n",
        "\n",
        "    def calculate_salary(self):\n",
        "        \"\"\"\n",
        "        Calculates and returns the employee's salary.\n",
        "        \"\"\"\n",
        "        return self.hours_worked * self.hourly_rate\n",
        "\n",
        "\n",
        "class Manager(Employee):\n",
        "    \"\"\"\n",
        "    A derived class representing a manager.\n",
        "    It inherits from Employee and adds a bonus to the salary.\n",
        "    \"\"\"\n",
        "\n",
        "    def __init__(self, name, hours_worked, hourly_rate, bonus):\n",
        "        \"\"\"\n",
        "        Initializes a new Manager object.\n",
        "\n",
        "        It first calls the parent class's __init__ method using `super()`.\n",
        "\n",
        "        Args:\n",
        "            name (str): The name of the manager.\n",
        "            hours_worked (float): The number of hours worked.\n",
        "            hourly_rate (float): The hourly rate of pay.\n",
        "            bonus (float): The manager's bonus.\n",
        "        \"\"\"\n",
        "        # Call the constructor of the parent class (Employee)\n",
        "        super().__init__(name, hours_worked, hourly_rate)\n",
        "        # Add a new attribute specific to the Manager class\n",
        "        self.bonus = bonus\n",
        "\n",
        "    def calculate_salary(self):\n",
        "        \"\"\"\n",
        "        Overrides the parent method to include a bonus.\n",
        "\n",
        "        It first gets the base salary from the parent class using `super()`,\n",
        "        then adds the manager's bonus.\n",
        "        \"\"\"\n",
        "        # Get the base salary from the Employee class's method\n",
        "        base_salary = super().calculate_salary()\n",
        "        # Add the bonus to the base salary\n",
        "        total_salary = base_salary + self.bonus\n",
        "        return total_salary\n",
        "\n",
        "\n",
        "# --- Demonstrating the classes ---\n",
        "\n",
        "print(\"--- Creating an Employee instance ---\")\n",
        "# Create a standard employee instance\n",
        "employee1 = Employee(\"Alex\", 160, 25.00)\n",
        "employee_salary = employee1.calculate_salary()\n",
        "print(f\"Employee {employee1.name}'s salary is: ${employee_salary}\")\n",
        "\n",
        "print(\"\\n--- Creating a Manager instance ---\")\n",
        "# Create a manager instance with a bonus\n",
        "manager1 = Manager(\"Sarah\", 160, 35.00, 1000.00)\n",
        "manager_salary = manager1.calculate_salary()\n",
        "print(f\"Manager {manager1.name}'s salary (including bonus) is: ${manager_salary}\")\n"
      ],
      "metadata": {
        "colab": {
          "base_uri": "https://localhost:8080/"
        },
        "id": "vn0vd1iHAMpZ",
        "outputId": "3c8ba5de-01db-4974-fefc-f47de90f1777"
      },
      "execution_count": 15,
      "outputs": [
        {
          "output_type": "stream",
          "name": "stdout",
          "text": [
            "--- Creating an Employee instance ---\n",
            "Employee Alex's salary is: $4000.0\n",
            "\n",
            "--- Creating a Manager instance ---\n",
            "Manager Sarah's salary (including bonus) is: $6600.0\n"
          ]
        }
      ]
    },
    {
      "cell_type": "markdown",
      "source": [
        "15. Create a class Product with attributes name, price, and quantity. Implement a method total_price() that\n",
        "calculates the total price of the product.\n",
        "\n",
        "\n"
      ],
      "metadata": {
        "id": "-KcDDfwLAM8r"
      }
    },
    {
      "cell_type": "code",
      "source": [
        "class Product:\n",
        "    \"\"\"\n",
        "    A class to represent a product with its name, price, and quantity.\n",
        "    \"\"\"\n",
        "\n",
        "    def __init__(self, name, price, quantity):\n",
        "        \"\"\"\n",
        "        Initializes the Product object with a name, price, and quantity.\n",
        "\n",
        "        Args:\n",
        "            name (str): The name of the product.\n",
        "            price (float): The price per unit of the product.\n",
        "            quantity (int): The number of units of the product.\n",
        "        \"\"\"\n",
        "        self.name = name\n",
        "        self.price = price\n",
        "        self.quantity = quantity\n",
        "\n",
        "    def total_price(self):\n",
        "        \"\"\"\n",
        "        Calculates and returns the total price of the product based on its\n",
        "        price and quantity.\n",
        "        \"\"\"\n",
        "        return self.price * self.quantity\n",
        "\n",
        "# --- Demonstrating the class ---\n",
        "\n",
        "# Create an instance of the Product class\n",
        "product1 = Product(\"Laptop\", 1200.50, 2)\n",
        "print(f\"Product: {product1.name}\")\n",
        "print(f\"Price per unit: ${product1.price}\")\n",
        "print(f\"Quantity: {product1.quantity}\")\n",
        "\n",
        "# Calculate and print the total price\n",
        "total = product1.total_price()\n",
        "print(f\"Total price: ${total:.2f}\")\n",
        "\n",
        "# Create another product instance\n",
        "print(\"\\n--- Another Product ---\")\n",
        "product2 = Product(\"Notebook\", 3.25, 10)\n",
        "print(f\"Product: {product2.name}\")\n",
        "print(f\"Price per unit: ${product2.price}\")\n",
        "print(f\"Quantity: {product2.quantity}\")\n",
        "\n",
        "# Calculate and print the total price for the second product\n",
        "total2 = product2.total_price()\n",
        "print(f\"Total price: ${total2:.2f}\")\n"
      ],
      "metadata": {
        "colab": {
          "base_uri": "https://localhost:8080/"
        },
        "id": "EmMfVNRQANMk",
        "outputId": "b6d6cf93-7844-472e-8f6d-0b3a5b6d2486"
      },
      "execution_count": 16,
      "outputs": [
        {
          "output_type": "stream",
          "name": "stdout",
          "text": [
            "Product: Laptop\n",
            "Price per unit: $1200.5\n",
            "Quantity: 2\n",
            "Total price: $2401.00\n",
            "\n",
            "--- Another Product ---\n",
            "Product: Notebook\n",
            "Price per unit: $3.25\n",
            "Quantity: 10\n",
            "Total price: $32.50\n"
          ]
        }
      ]
    },
    {
      "cell_type": "markdown",
      "source": [
        "16. Create a class Animal with an abstract method sound(). Create two derived classes Cow and Sheep that\n",
        "implement the sound() method."
      ],
      "metadata": {
        "id": "6u7bLn1DANa4"
      }
    },
    {
      "cell_type": "code",
      "source": [
        "# Import ABC and abstractmethod from the abc module\n",
        "# ABC stands for Abstract Base Class\n",
        "from abc import ABC, abstractmethod\n",
        "\n",
        "\n",
        "class Animal(ABC):\n",
        "    \"\"\"\n",
        "    This is an abstract base class for an animal.\n",
        "    It inherits from ABC, which marks it as an abstract class.\n",
        "    An abstract class cannot be instantiated on its own.\n",
        "    \"\"\"\n",
        "\n",
        "    @abstractmethod\n",
        "    def sound(self):\n",
        "        \"\"\"\n",
        "        This is an abstract method.\n",
        "        Any class that inherits from Animal MUST implement this method.\n",
        "        It doesn't have a body, as its purpose is to be a template.\n",
        "        \"\"\"\n",
        "        # Note: An abstract method has no implementation (body)\n",
        "        pass\n",
        "\n",
        "\n",
        "class Cow(Animal):\n",
        "    \"\"\"\n",
        "    The Cow class inherits from Animal.\n",
        "    It must provide a concrete implementation for the 'sound' method.\n",
        "    \"\"\"\n",
        "\n",
        "    def sound(self):\n",
        "        \"\"\"\n",
        "        Implements the sound() method for a cow.\n",
        "        \"\"\"\n",
        "        print(\"Moo!\")\n",
        "\n",
        "\n",
        "class Sheep(Animal):\n",
        "    \"\"\"\n",
        "    The Sheep class also inherits from Animal.\n",
        "    It provides its own unique implementation for the 'sound' method.\n",
        "    \"\"\"\n",
        "\n",
        "    def sound(self):\n",
        "        \"\"\"\n",
        "        Implements the sound() method for a sheep.\n",
        "        \"\"\"\n",
        "        print(\"Baa!\")\n",
        "\n",
        "\n",
        "# --- Demonstrating the abstract class and its derived classes ---\n",
        "\n",
        "# You cannot create an instance of the abstract class Animal directly.\n",
        "# The following line would raise a TypeError:\n",
        "# my_animal = Animal()\n",
        "\n",
        "print(\"--- Creating a Cow object ---\")\n",
        "# Create an instance of the Cow class\n",
        "my_cow = Cow()\n",
        "my_cow.sound()\n",
        "\n",
        "print(\"\\n--- Creating a Sheep object ---\")\n",
        "# Create an instance of the Sheep class\n",
        "my_sheep = Sheep()\n",
        "my_sheep.sound()\n"
      ],
      "metadata": {
        "colab": {
          "base_uri": "https://localhost:8080/"
        },
        "id": "UH5Z9VftANp6",
        "outputId": "825431d1-fbd2-4bb4-d03d-9eb50022cd82"
      },
      "execution_count": 17,
      "outputs": [
        {
          "output_type": "stream",
          "name": "stdout",
          "text": [
            "--- Creating a Cow object ---\n",
            "Moo!\n",
            "\n",
            "--- Creating a Sheep object ---\n",
            "Baa!\n"
          ]
        }
      ]
    },
    {
      "cell_type": "markdown",
      "source": [
        "17. Create a class Book with attributes title, author, and year_published. Add a method get_book_info() that\n",
        "returns a formatted string with the book's details."
      ],
      "metadata": {
        "id": "OB2F2OzGAN4-"
      }
    },
    {
      "cell_type": "code",
      "source": [
        "class Book:\n",
        "    \"\"\"\n",
        "    A class to represent a book with its title, author, and publication year.\n",
        "    \"\"\"\n",
        "\n",
        "    def __init__(self, title, author, year_published):\n",
        "        \"\"\"\n",
        "        Initializes a new Book object.\n",
        "\n",
        "        Args:\n",
        "            title (str): The title of the book.\n",
        "            author (str): The author of the book.\n",
        "            year_published (int): The year the book was published.\n",
        "        \"\"\"\n",
        "        self.title = title\n",
        "        self.author = author\n",
        "        self.year_published = year_published\n",
        "\n",
        "    def get_book_info(self):\n",
        "        \"\"\"\n",
        "        Returns a formatted string containing the book's details.\n",
        "        \"\"\"\n",
        "        return f\"'{self.title}' by {self.author}, published in {self.year_published}.\"\n",
        "\n",
        "\n",
        "# --- Demonstrating the class ---\n",
        "\n",
        "# Create an instance of the Book class\n",
        "my_book = Book(\"The Little Prince\", \"Antoine de Saint-Exupéry\", 1943)\n",
        "\n",
        "# Call the get_book_info() method and print the result\n",
        "book_details = my_book.get_book_info()\n",
        "print(book_details)\n",
        "\n",
        "# Create another book instance\n",
        "another_book = Book(\"Fahrenheit 451\", \"Ray Bradbury\", 1953)\n",
        "print(another_book.get_book_info())\n"
      ],
      "metadata": {
        "colab": {
          "base_uri": "https://localhost:8080/"
        },
        "id": "1hOlUA0RAOHv",
        "outputId": "5fd2e921-2501-4a65-f250-8c32d2a861e2"
      },
      "execution_count": 18,
      "outputs": [
        {
          "output_type": "stream",
          "name": "stdout",
          "text": [
            "'The Little Prince' by Antoine de Saint-Exupéry, published in 1943.\n",
            "'Fahrenheit 451' by Ray Bradbury, published in 1953.\n"
          ]
        }
      ]
    },
    {
      "cell_type": "markdown",
      "source": [
        "18. Create a class House with attributes address and price. Create a derived class Mansion that adds an\n",
        "attribute number_of_rooms."
      ],
      "metadata": {
        "id": "pgtcukafAOZq"
      }
    },
    {
      "cell_type": "code",
      "source": [
        "class House:\n",
        "    \"\"\"\n",
        "    A base class to represent a house.\n",
        "    It has attributes for the address and price.\n",
        "    \"\"\"\n",
        "\n",
        "    def __init__(self, address, price):\n",
        "        \"\"\"\n",
        "        Initializes a new House object.\n",
        "\n",
        "        Args:\n",
        "            address (str): The address of the house.\n",
        "            price (float): The price of the house.\n",
        "        \"\"\"\n",
        "        self.address = address\n",
        "        self.price = price\n",
        "\n",
        "    def get_info(self):\n",
        "        \"\"\"\n",
        "        Returns a formatted string with the house's basic information.\n",
        "        \"\"\"\n",
        "        return f\"Address: {self.address}, Price: ${self.price:,.2f}\"\n",
        "\n",
        "\n",
        "class Mansion(House):\n",
        "    \"\"\"\n",
        "    A derived class representing a mansion.\n",
        "    It inherits from the House class and adds the number_of_rooms attribute.\n",
        "    \"\"\"\n",
        "\n",
        "    def __init__(self, address, price, number_of_rooms):\n",
        "        \"\"\"\n",
        "        Initializes a new Mansion object.\n",
        "\n",
        "        It first calls the parent class's __init__ method using `super()`.\n",
        "\n",
        "        Args:\n",
        "            address (str): The address of the mansion.\n",
        "            price (float): The price of the mansion.\n",
        "            number_of_rooms (int): The number of rooms in the mansion.\n",
        "        \"\"\"\n",
        "        # Call the constructor of the parent class (House)\n",
        "        super().__init__(address, price)\n",
        "        # Add a new attribute specific to the Mansion class\n",
        "        self.number_of_rooms = number_of_rooms\n",
        "\n",
        "    def get_info(self):\n",
        "        \"\"\"\n",
        "        Overrides the parent method to include the number of rooms.\n",
        "        \"\"\"\n",
        "        # Get the basic house info from the parent class's method\n",
        "        base_info = super().get_info()\n",
        "        # Add the number of rooms to the string\n",
        "        return f\"{base_info}, Number of rooms: {self.number_of_rooms}\"\n",
        "\n",
        "\n",
        "# --- Demonstrating the classes ---\n",
        "\n",
        "# Create an instance of the House class\n",
        "my_house = House(\"123 Main Street\", 350000.00)\n",
        "print(\"House Information:\")\n",
        "print(my_house.get_info())\n",
        "\n",
        "# Create an instance of the Mansion class\n",
        "my_mansion = Mansion(\"456 Grand Avenue\", 5500000.00, 25)\n",
        "print(\"\\nMansion Information:\")\n",
        "print(my_mansion.get_info())\n"
      ],
      "metadata": {
        "colab": {
          "base_uri": "https://localhost:8080/"
        },
        "id": "2N85539fAOtu",
        "outputId": "e9a3d02b-0a9d-4f13-a907-2566b4547e93"
      },
      "execution_count": 19,
      "outputs": [
        {
          "output_type": "stream",
          "name": "stdout",
          "text": [
            "House Information:\n",
            "Address: 123 Main Street, Price: $350,000.00\n",
            "\n",
            "Mansion Information:\n",
            "Address: 456 Grand Avenue, Price: $5,500,000.00, Number of rooms: 25\n"
          ]
        }
      ]
    }
  ]
}